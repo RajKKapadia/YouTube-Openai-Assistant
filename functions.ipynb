{
 "cells": [
  {
   "cell_type": "markdown",
   "metadata": {},
   "source": [
    "# Openai Assistant API Functions"
   ]
  },
  {
   "cell_type": "code",
   "execution_count": 47,
   "metadata": {},
   "outputs": [],
   "source": [
    "import openai"
   ]
  },
  {
   "cell_type": "code",
   "execution_count": 48,
   "metadata": {},
   "outputs": [
    {
     "data": {
      "text/plain": [
       "True"
      ]
     },
     "execution_count": 48,
     "metadata": {},
     "output_type": "execute_result"
    }
   ],
   "source": [
    "from dotenv import load_dotenv, find_dotenv\n",
    "load_dotenv(find_dotenv())"
   ]
  },
  {
   "cell_type": "code",
   "execution_count": 49,
   "metadata": {},
   "outputs": [],
   "source": [
    "import os"
   ]
  },
  {
   "cell_type": "code",
   "execution_count": 50,
   "metadata": {},
   "outputs": [],
   "source": [
    "client = openai.OpenAI(\n",
    "    api_key=os.getenv('OPENAI_API_KEY')\n",
    ")"
   ]
  },
  {
   "cell_type": "code",
   "execution_count": 51,
   "metadata": {},
   "outputs": [
    {
     "name": "stdout",
     "output_type": "stream",
     "text": [
      "{\n",
      "  \"data\": [\n",
      "    {\n",
      "      \"id\": \"asst_k5aovsoQxn9ckp9Y3ea7koLv\",\n",
      "      \"created_at\": 1702185964,\n",
      "      \"description\": null,\n",
      "      \"file_ids\": [],\n",
      "      \"instructions\": \"You are a helpful assistant. Don't make assumptions about what values to plug into functions. Ask for clarification if a user request is ambiguous.\",\n",
      "      \"metadata\": {},\n",
      "      \"model\": \"gpt-4-1106-preview\",\n",
      "      \"name\": \"YouTube-Functions-Demo\",\n",
      "      \"object\": \"assistant\",\n",
      "      \"tools\": [\n",
      "        {\n",
      "          \"function\": {\n",
      "            \"name\": \"get_weather\",\n",
      "            \"parameters\": {\n",
      "              \"type\": \"object\",\n",
      "              \"properties\": {\n",
      "                \"location\": {\n",
      "                  \"type\": \"string\",\n",
      "                  \"description\": \"The city and state e.g. San Francisco, CA\"\n",
      "                },\n",
      "                \"unit\": {\n",
      "                  \"type\": \"string\",\n",
      "                  \"enum\": [\n",
      "                    \"c\",\n",
      "                    \"f\"\n",
      "                  ],\n",
      "                  \"description\": \"The temperature unit to use. Infer this from the user's location.\"\n",
      "                }\n",
      "              },\n",
      "              \"required\": [\n",
      "                \"location\"\n",
      "              ]\n",
      "            },\n",
      "            \"description\": \"Get the current weather\"\n",
      "          },\n",
      "          \"type\": \"function\"\n",
      "        },\n",
      "        {\n",
      "          \"function\": {\n",
      "            \"name\": \"get_n_day_weather_forecast\",\n",
      "            \"parameters\": {\n",
      "              \"type\": \"object\",\n",
      "              \"properties\": {\n",
      "                \"location\": {\n",
      "                  \"type\": \"string\",\n",
      "                  \"description\": \"The city and state e.g. San Francisco, CA\"\n",
      "                },\n",
      "                \"unit\": {\n",
      "                  \"type\": \"string\",\n",
      "                  \"enum\": [\n",
      "                    \"c\",\n",
      "                    \"f\"\n",
      "                  ]\n",
      "                },\n",
      "                \"num_days\": {\n",
      "                  \"type\": \"integer\",\n",
      "                  \"description\": \"The number of days to forecast\"\n",
      "                }\n",
      "              },\n",
      "              \"required\": [\n",
      "                \"location\",\n",
      "                \"num_days\"\n",
      "              ]\n",
      "            },\n",
      "            \"description\": \"Get an N-day weather forecast\"\n",
      "          },\n",
      "          \"type\": \"function\"\n",
      "        }\n",
      "      ]\n",
      "    },\n",
      "    {\n",
      "      \"id\": \"asst_nWnSZKsNe3KM5UbFIVS6a3d5\",\n",
      "      \"created_at\": 1702185115,\n",
      "      \"description\": null,\n",
      "      \"file_ids\": [\n",
      "        \"file-9CcuQl9hY1XI1U5UBzb4pNDG\"\n",
      "      ],\n",
      "      \"instructions\": \"You are a helpful assistant, use your knowledge to best answer the user query.\",\n",
      "      \"metadata\": {},\n",
      "      \"model\": \"gpt-4-1106-preview\",\n",
      "      \"name\": \"Youtube-Demo\",\n",
      "      \"object\": \"assistant\",\n",
      "      \"tools\": [\n",
      "        {\n",
      "          \"type\": \"retrieval\"\n",
      "        }\n",
      "      ]\n",
      "    }\n",
      "  ],\n",
      "  \"object\": \"list\",\n",
      "  \"first_id\": \"asst_k5aovsoQxn9ckp9Y3ea7koLv\",\n",
      "  \"last_id\": \"asst_nWnSZKsNe3KM5UbFIVS6a3d5\",\n",
      "  \"has_more\": false\n",
      "}\n"
     ]
    }
   ],
   "source": [
    "assistants = client.beta.assistants.list()\n",
    "\n",
    "print(assistants.model_dump_json(indent=2))"
   ]
  },
  {
   "cell_type": "markdown",
   "metadata": {},
   "source": [
    "# Create Assistant"
   ]
  },
  {
   "cell_type": "code",
   "execution_count": 52,
   "metadata": {},
   "outputs": [],
   "source": [
    "tools = [\n",
    "    {\n",
    "        \"function\": {\n",
    "            \"name\": \"get_weather\",\n",
    "            \"parameters\": {\n",
    "                    \"type\": \"object\",\n",
    "                    \"properties\": {\n",
    "                        \"location\": {\n",
    "                            \"type\": \"string\",\n",
    "                            \"description\": \"The city and state e.g. San Francisco, CA\"\n",
    "                        },\n",
    "                        \"unit\": {\n",
    "                            \"type\": \"string\",\n",
    "                            \"enum\": [\n",
    "                                \"c\",\n",
    "                                \"f\"\n",
    "                            ],\n",
    "                            \"description\": \"The temperature unit to use. Infer this from the user's location.\"\n",
    "                        }\n",
    "                    },\n",
    "                \"required\": [\"location\"]\n",
    "            },\n",
    "            \"description\": \"Get the current weather\"\n",
    "        },\n",
    "        \"type\": \"function\"\n",
    "    },\n",
    "    {\n",
    "        \"function\": {\n",
    "            \"name\": \"get_n_day_weather_forecast\",\n",
    "            \"parameters\": {\n",
    "                    \"type\": \"object\",\n",
    "                    \"properties\": {\n",
    "                        \"location\": {\n",
    "                            \"type\": \"string\",\n",
    "                            \"description\": \"The city and state e.g. San Francisco, CA\"\n",
    "                        },\n",
    "                        \"unit\": {\n",
    "                            \"type\": \"string\",\n",
    "                            \"enum\": [\n",
    "                                \"c\",\n",
    "                                \"f\"\n",
    "                            ]\n",
    "                        },\n",
    "                        \"num_days\": {\n",
    "                            \"type\": \"integer\",\n",
    "                            \"description\": \"The number of days to forecast\"\n",
    "                        }\n",
    "                    },\n",
    "                \"required\": [\"location\", \"num_days\"]\n",
    "            },\n",
    "            \"description\": \"Get an N-day weather forecast\"\n",
    "        },\n",
    "        \"type\": \"function\"\n",
    "    }\n",
    "]"
   ]
  },
  {
   "cell_type": "code",
   "execution_count": 53,
   "metadata": {},
   "outputs": [],
   "source": [
    "weather_helper = client.beta.assistants.create(\n",
    "    model='gpt-4-1106-preview',\n",
    "    name='YouTube-Functions-Demo-From-Notebook',\n",
    "    instructions=\"You are a helpful assistant. Don't make assumptions about what values to plug into functions. Ask for clarification if a user request is ambiguous.\",\n",
    "    tools=tools,\n",
    "    description='This is an assistant created from a notebook.'\n",
    ")"
   ]
  },
  {
   "cell_type": "code",
   "execution_count": 55,
   "metadata": {},
   "outputs": [
    {
     "name": "stdout",
     "output_type": "stream",
     "text": [
      "{\n",
      "  \"id\": \"asst_wYPfnomOOdUnvwjccQ7PSnz1\",\n",
      "  \"created_at\": 1702193873,\n",
      "  \"description\": \"This is an assistant created from a notebook.\",\n",
      "  \"file_ids\": [],\n",
      "  \"instructions\": \"You are a helpful assistant. Don't make assumptions about what values to plug into functions. Ask for clarification if a user request is ambiguous.\",\n",
      "  \"metadata\": {},\n",
      "  \"model\": \"gpt-4-1106-preview\",\n",
      "  \"name\": \"YouTube-Functions-Demo-From-Notebook\",\n",
      "  \"object\": \"assistant\",\n",
      "  \"tools\": [\n",
      "    {\n",
      "      \"function\": {\n",
      "        \"name\": \"get_weather\",\n",
      "        \"parameters\": {\n",
      "          \"type\": \"object\",\n",
      "          \"properties\": {\n",
      "            \"location\": {\n",
      "              \"type\": \"string\",\n",
      "              \"description\": \"The city and state e.g. San Francisco, CA\"\n",
      "            },\n",
      "            \"unit\": {\n",
      "              \"type\": \"string\",\n",
      "              \"enum\": [\n",
      "                \"c\",\n",
      "                \"f\"\n",
      "              ],\n",
      "              \"description\": \"The temperature unit to use. Infer this from the user's location.\"\n",
      "            }\n",
      "          },\n",
      "          \"required\": [\n",
      "            \"location\"\n",
      "          ]\n",
      "        },\n",
      "        \"description\": \"Get the current weather\"\n",
      "      },\n",
      "      \"type\": \"function\"\n",
      "    },\n",
      "    {\n",
      "      \"function\": {\n",
      "        \"name\": \"get_n_day_weather_forecast\",\n",
      "        \"parameters\": {\n",
      "          \"type\": \"object\",\n",
      "          \"properties\": {\n",
      "            \"location\": {\n",
      "              \"type\": \"string\",\n",
      "              \"description\": \"The city and state e.g. San Francisco, CA\"\n",
      "            },\n",
      "            \"unit\": {\n",
      "              \"type\": \"string\",\n",
      "              \"enum\": [\n",
      "                \"c\",\n",
      "                \"f\"\n",
      "              ]\n",
      "            },\n",
      "            \"num_days\": {\n",
      "              \"type\": \"integer\",\n",
      "              \"description\": \"The number of days to forecast\"\n",
      "            }\n",
      "          },\n",
      "          \"required\": [\n",
      "            \"location\",\n",
      "            \"num_days\"\n",
      "          ]\n",
      "        },\n",
      "        \"description\": \"Get an N-day weather forecast\"\n",
      "      },\n",
      "      \"type\": \"function\"\n",
      "    }\n",
      "  ]\n",
      "}\n"
     ]
    }
   ],
   "source": [
    "print(weather_helper.model_dump_json(indent=2))"
   ]
  },
  {
   "cell_type": "code",
   "execution_count": 56,
   "metadata": {},
   "outputs": [],
   "source": [
    "thread = client.beta.threads.create()"
   ]
  },
  {
   "cell_type": "code",
   "execution_count": 57,
   "metadata": {},
   "outputs": [],
   "source": [
    "message = client.beta.threads.messages.create(\n",
    "    thread_id=thread.id,\n",
    "    role=\"user\",\n",
    "    content=\"What is the weather today in Ahmedabad, Gujarat?\"\n",
    ")"
   ]
  },
  {
   "cell_type": "code",
   "execution_count": 58,
   "metadata": {},
   "outputs": [],
   "source": [
    "run = client.beta.threads.runs.create(\n",
    "  thread_id=thread.id,\n",
    "  assistant_id=weather_helper.id,\n",
    "  instructions=\"Please address the user as Raj.\"\n",
    ")"
   ]
  },
  {
   "cell_type": "code",
   "execution_count": 59,
   "metadata": {},
   "outputs": [],
   "source": [
    "retrieve_run = client.beta.threads.runs.retrieve(\n",
    "  thread_id=thread.id,\n",
    "  run_id=run.id\n",
    ")"
   ]
  },
  {
   "cell_type": "code",
   "execution_count": 60,
   "metadata": {},
   "outputs": [
    {
     "name": "stdout",
     "output_type": "stream",
     "text": [
      "{\n",
      "  \"id\": \"run_duFnRM6UzBcbEnW8eVtkl2bf\",\n",
      "  \"assistant_id\": \"asst_wYPfnomOOdUnvwjccQ7PSnz1\",\n",
      "  \"cancelled_at\": null,\n",
      "  \"completed_at\": null,\n",
      "  \"created_at\": 1702194001,\n",
      "  \"expires_at\": 1702194601,\n",
      "  \"failed_at\": null,\n",
      "  \"file_ids\": [],\n",
      "  \"instructions\": \"Please address the user as Raj.\",\n",
      "  \"last_error\": null,\n",
      "  \"metadata\": {},\n",
      "  \"model\": \"gpt-4-1106-preview\",\n",
      "  \"object\": \"thread.run\",\n",
      "  \"required_action\": {\n",
      "    \"submit_tool_outputs\": {\n",
      "      \"tool_calls\": [\n",
      "        {\n",
      "          \"id\": \"call_nxVahCbiHLv0Ed7fBARh1M1w\",\n",
      "          \"function\": {\n",
      "            \"arguments\": \"{\\\"location\\\":\\\"Ahmedabad, Gujarat\\\"}\",\n",
      "            \"name\": \"get_weather\"\n",
      "          },\n",
      "          \"type\": \"function\"\n",
      "        }\n",
      "      ]\n",
      "    },\n",
      "    \"type\": \"submit_tool_outputs\"\n",
      "  },\n",
      "  \"started_at\": 1702194001,\n",
      "  \"status\": \"requires_action\",\n",
      "  \"thread_id\": \"thread_e1fUU9V1SnLZTP0RYBdzTceo\",\n",
      "  \"tools\": [\n",
      "    {\n",
      "      \"function\": {\n",
      "        \"name\": \"get_weather\",\n",
      "        \"parameters\": {\n",
      "          \"type\": \"object\",\n",
      "          \"properties\": {\n",
      "            \"location\": {\n",
      "              \"type\": \"string\",\n",
      "              \"description\": \"The city and state e.g. San Francisco, CA\"\n",
      "            },\n",
      "            \"unit\": {\n",
      "              \"type\": \"string\",\n",
      "              \"enum\": [\n",
      "                \"c\",\n",
      "                \"f\"\n",
      "              ],\n",
      "              \"description\": \"The temperature unit to use. Infer this from the user's location.\"\n",
      "            }\n",
      "          },\n",
      "          \"required\": [\n",
      "            \"location\"\n",
      "          ]\n",
      "        },\n",
      "        \"description\": \"Get the current weather\"\n",
      "      },\n",
      "      \"type\": \"function\"\n",
      "    },\n",
      "    {\n",
      "      \"function\": {\n",
      "        \"name\": \"get_n_day_weather_forecast\",\n",
      "        \"parameters\": {\n",
      "          \"type\": \"object\",\n",
      "          \"properties\": {\n",
      "            \"location\": {\n",
      "              \"type\": \"string\",\n",
      "              \"description\": \"The city and state e.g. San Francisco, CA\"\n",
      "            },\n",
      "            \"unit\": {\n",
      "              \"type\": \"string\",\n",
      "              \"enum\": [\n",
      "                \"c\",\n",
      "                \"f\"\n",
      "              ]\n",
      "            },\n",
      "            \"num_days\": {\n",
      "              \"type\": \"integer\",\n",
      "              \"description\": \"The number of days to forecast\"\n",
      "            }\n",
      "          },\n",
      "          \"required\": [\n",
      "            \"location\",\n",
      "            \"num_days\"\n",
      "          ]\n",
      "        },\n",
      "        \"description\": \"Get an N-day weather forecast\"\n",
      "      },\n",
      "      \"type\": \"function\"\n",
      "    }\n",
      "  ]\n",
      "}\n"
     ]
    }
   ],
   "source": [
    "print(retrieve_run.model_dump_json(indent=2))"
   ]
  },
  {
   "cell_type": "code",
   "execution_count": 61,
   "metadata": {},
   "outputs": [
    {
     "data": {
      "text/plain": [
       "Run(id='run_duFnRM6UzBcbEnW8eVtkl2bf', assistant_id='asst_wYPfnomOOdUnvwjccQ7PSnz1', cancelled_at=None, completed_at=None, created_at=1702194001, expires_at=1702194601, failed_at=None, file_ids=[], instructions='Please address the user as Raj.', last_error=None, metadata={}, model='gpt-4-1106-preview', object='thread.run', required_action=None, started_at=1702194001, status='queued', thread_id='thread_e1fUU9V1SnLZTP0RYBdzTceo', tools=[ToolAssistantToolsFunction(function=FunctionDefinition(name='get_weather', parameters={'type': 'object', 'properties': {'location': {'type': 'string', 'description': 'The city and state e.g. San Francisco, CA'}, 'unit': {'type': 'string', 'enum': ['c', 'f'], 'description': \"The temperature unit to use. Infer this from the user's location.\"}}, 'required': ['location']}, description='Get the current weather'), type='function'), ToolAssistantToolsFunction(function=FunctionDefinition(name='get_n_day_weather_forecast', parameters={'type': 'object', 'properties': {'location': {'type': 'string', 'description': 'The city and state e.g. San Francisco, CA'}, 'unit': {'type': 'string', 'enum': ['c', 'f']}, 'num_days': {'type': 'integer', 'description': 'The number of days to forecast'}}, 'required': ['location', 'num_days']}, description='Get an N-day weather forecast'), type='function')])"
      ]
     },
     "execution_count": 61,
     "metadata": {},
     "output_type": "execute_result"
    }
   ],
   "source": [
    "client.beta.threads.runs.submit_tool_outputs(\n",
    "    run_id=run.id,\n",
    "    thread_id=thread.id,\n",
    "    tool_outputs=[\n",
    "      {\n",
    "        \"tool_call_id\": 'call_nxVahCbiHLv0Ed7fBARh1M1w',\n",
    "        \"output\": \"it is 29 degree Celcius\",\n",
    "      }\n",
    "    ]\n",
    ")"
   ]
  },
  {
   "cell_type": "code",
   "execution_count": 62,
   "metadata": {},
   "outputs": [],
   "source": [
    "retrieve_run = client.beta.threads.runs.retrieve(\n",
    "  thread_id=thread.id,\n",
    "  run_id=run.id\n",
    ")"
   ]
  },
  {
   "cell_type": "code",
   "execution_count": 63,
   "metadata": {},
   "outputs": [
    {
     "name": "stdout",
     "output_type": "stream",
     "text": [
      "{\n",
      "  \"id\": \"run_duFnRM6UzBcbEnW8eVtkl2bf\",\n",
      "  \"assistant_id\": \"asst_wYPfnomOOdUnvwjccQ7PSnz1\",\n",
      "  \"cancelled_at\": null,\n",
      "  \"completed_at\": 1702194059,\n",
      "  \"created_at\": 1702194001,\n",
      "  \"expires_at\": null,\n",
      "  \"failed_at\": null,\n",
      "  \"file_ids\": [],\n",
      "  \"instructions\": \"Please address the user as Raj.\",\n",
      "  \"last_error\": null,\n",
      "  \"metadata\": {},\n",
      "  \"model\": \"gpt-4-1106-preview\",\n",
      "  \"object\": \"thread.run\",\n",
      "  \"required_action\": null,\n",
      "  \"started_at\": 1702194058,\n",
      "  \"status\": \"completed\",\n",
      "  \"thread_id\": \"thread_e1fUU9V1SnLZTP0RYBdzTceo\",\n",
      "  \"tools\": [\n",
      "    {\n",
      "      \"function\": {\n",
      "        \"name\": \"get_weather\",\n",
      "        \"parameters\": {\n",
      "          \"type\": \"object\",\n",
      "          \"properties\": {\n",
      "            \"location\": {\n",
      "              \"type\": \"string\",\n",
      "              \"description\": \"The city and state e.g. San Francisco, CA\"\n",
      "            },\n",
      "            \"unit\": {\n",
      "              \"type\": \"string\",\n",
      "              \"enum\": [\n",
      "                \"c\",\n",
      "                \"f\"\n",
      "              ],\n",
      "              \"description\": \"The temperature unit to use. Infer this from the user's location.\"\n",
      "            }\n",
      "          },\n",
      "          \"required\": [\n",
      "            \"location\"\n",
      "          ]\n",
      "        },\n",
      "        \"description\": \"Get the current weather\"\n",
      "      },\n",
      "      \"type\": \"function\"\n",
      "    },\n",
      "    {\n",
      "      \"function\": {\n",
      "        \"name\": \"get_n_day_weather_forecast\",\n",
      "        \"parameters\": {\n",
      "          \"type\": \"object\",\n",
      "          \"properties\": {\n",
      "            \"location\": {\n",
      "              \"type\": \"string\",\n",
      "              \"description\": \"The city and state e.g. San Francisco, CA\"\n",
      "            },\n",
      "            \"unit\": {\n",
      "              \"type\": \"string\",\n",
      "              \"enum\": [\n",
      "                \"c\",\n",
      "                \"f\"\n",
      "              ]\n",
      "            },\n",
      "            \"num_days\": {\n",
      "              \"type\": \"integer\",\n",
      "              \"description\": \"The number of days to forecast\"\n",
      "            }\n",
      "          },\n",
      "          \"required\": [\n",
      "            \"location\",\n",
      "            \"num_days\"\n",
      "          ]\n",
      "        },\n",
      "        \"description\": \"Get an N-day weather forecast\"\n",
      "      },\n",
      "      \"type\": \"function\"\n",
      "    }\n",
      "  ]\n",
      "}\n"
     ]
    }
   ],
   "source": [
    "print(retrieve_run.model_dump_json(indent=2))"
   ]
  },
  {
   "cell_type": "code",
   "execution_count": 64,
   "metadata": {},
   "outputs": [],
   "source": [
    "thread_messages = client.beta.threads.messages.list(thread.id)"
   ]
  },
  {
   "cell_type": "code",
   "execution_count": 65,
   "metadata": {},
   "outputs": [],
   "source": [
    "user = ''\n",
    "assistant = ''\n",
    "\n",
    "for tm in reversed(thread_messages.data):\n",
    "    content = tm.content[0].text.value\n",
    "    if tm.role == 'user':\n",
    "        user += content\n",
    "    if tm.role == 'assistant':\n",
    "        assistant += content"
   ]
  },
  {
   "cell_type": "code",
   "execution_count": 66,
   "metadata": {},
   "outputs": [
    {
     "name": "stdout",
     "output_type": "stream",
     "text": [
      "What is the weather today in Ahmedabad, Gujarat?\n"
     ]
    }
   ],
   "source": [
    "print(user)"
   ]
  },
  {
   "cell_type": "code",
   "execution_count": 67,
   "metadata": {},
   "outputs": [
    {
     "name": "stdout",
     "output_type": "stream",
     "text": [
      "Today in Ahmedabad, Gujarat, the weather is currently 29 degrees Celsius.\n"
     ]
    }
   ],
   "source": [
    "print(assistant)"
   ]
  },
  {
   "cell_type": "code",
   "execution_count": null,
   "metadata": {},
   "outputs": [],
   "source": []
  }
 ],
 "metadata": {
  "kernelspec": {
   "display_name": "venv",
   "language": "python",
   "name": "python3"
  },
  "language_info": {
   "codemirror_mode": {
    "name": "ipython",
    "version": 3
   },
   "file_extension": ".py",
   "mimetype": "text/x-python",
   "name": "python",
   "nbconvert_exporter": "python",
   "pygments_lexer": "ipython3",
   "version": "3.10.12"
  }
 },
 "nbformat": 4,
 "nbformat_minor": 2
}
