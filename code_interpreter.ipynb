{
 "cells": [
  {
   "cell_type": "markdown",
   "metadata": {},
   "source": [
    "### Load the .env file"
   ]
  },
  {
   "cell_type": "code",
   "execution_count": 1,
   "metadata": {},
   "outputs": [
    {
     "data": {
      "text/plain": [
       "True"
      ]
     },
     "execution_count": 1,
     "metadata": {},
     "output_type": "execute_result"
    }
   ],
   "source": [
    "from dotenv import load_dotenv, find_dotenv\n",
    "load_dotenv(find_dotenv())"
   ]
  },
  {
   "cell_type": "markdown",
   "metadata": {},
   "source": [
    "### Import libraries"
   ]
  },
  {
   "cell_type": "code",
   "execution_count": 2,
   "metadata": {},
   "outputs": [],
   "source": [
    "import os"
   ]
  },
  {
   "cell_type": "markdown",
   "metadata": {},
   "source": [
    "### Create Openai client"
   ]
  },
  {
   "cell_type": "code",
   "execution_count": 3,
   "metadata": {},
   "outputs": [],
   "source": [
    "from openai import OpenAI"
   ]
  },
  {
   "cell_type": "code",
   "execution_count": 4,
   "metadata": {},
   "outputs": [],
   "source": [
    "client = OpenAI(\n",
    "    api_key=os.getenv('OPENAI_API_KEY')\n",
    ")"
   ]
  },
  {
   "cell_type": "markdown",
   "metadata": {},
   "source": [
    "### Create an assistant"
   ]
  },
  {
   "cell_type": "code",
   "execution_count": 5,
   "metadata": {},
   "outputs": [],
   "source": [
    "math_tutor = client.beta.assistants.create(\n",
    "    instructions=\"You are a personal math tutor. When asked a question, write and run Python code to answer the question.\",\n",
    "    name=\"Math Tutor\",\n",
    "    tools=[{\"type\": \"code_interpreter\"}],\n",
    "    model=\"gpt-4\",\n",
    ")"
   ]
  },
  {
   "cell_type": "code",
   "execution_count": 6,
   "metadata": {},
   "outputs": [
    {
     "name": "stdout",
     "output_type": "stream",
     "text": [
      "{\n",
      "  \"id\": \"asst_PzNZpDjx7jYg7KRYBcC1PjCX\",\n",
      "  \"created_at\": 1700305098,\n",
      "  \"description\": null,\n",
      "  \"file_ids\": [],\n",
      "  \"instructions\": \"You are a personal math tutor. When asked a question, write and run Python code to answer the question.\",\n",
      "  \"metadata\": {},\n",
      "  \"model\": \"gpt-4\",\n",
      "  \"name\": \"Math Tutor\",\n",
      "  \"object\": \"assistant\",\n",
      "  \"tools\": [\n",
      "    {\n",
      "      \"type\": \"code_interpreter\"\n",
      "    }\n",
      "  ]\n",
      "}\n"
     ]
    }
   ],
   "source": [
    "print(math_tutor.model_dump_json(indent=2))"
   ]
  },
  {
   "cell_type": "markdown",
   "metadata": {},
   "source": [
    "### Create a new thread for the conversation"
   ]
  },
  {
   "cell_type": "code",
   "execution_count": 7,
   "metadata": {},
   "outputs": [],
   "source": [
    "thread = client.beta.threads.create()"
   ]
  },
  {
   "cell_type": "code",
   "execution_count": 8,
   "metadata": {},
   "outputs": [
    {
     "name": "stdout",
     "output_type": "stream",
     "text": [
      "{\n",
      "  \"id\": \"thread_f12GjwTSLUjY0eWc1LL9Hfqj\",\n",
      "  \"created_at\": 1700305214,\n",
      "  \"metadata\": {},\n",
      "  \"object\": \"thread\"\n",
      "}\n"
     ]
    }
   ],
   "source": [
    "print(thread.model_dump_json(indent=2))"
   ]
  },
  {
   "cell_type": "markdown",
   "metadata": {},
   "source": [
    "### Add message to the thread"
   ]
  },
  {
   "cell_type": "code",
   "execution_count": 9,
   "metadata": {},
   "outputs": [],
   "source": [
    "message = client.beta.threads.messages.create(\n",
    "    thread_id=thread.id,\n",
    "    role=\"user\",\n",
    "    content=\"I need to solve the equation `3x + 11 = 14`. Can you help me?\"\n",
    ")"
   ]
  },
  {
   "cell_type": "code",
   "execution_count": 10,
   "metadata": {},
   "outputs": [
    {
     "name": "stdout",
     "output_type": "stream",
     "text": [
      "{\n",
      "  \"id\": \"msg_S4auHICycoFDjh8nMqVXrBum\",\n",
      "  \"assistant_id\": null,\n",
      "  \"content\": [\n",
      "    {\n",
      "      \"text\": {\n",
      "        \"annotations\": [],\n",
      "        \"value\": \"I need to solve the equation `3x + 11 = 14`. Can you help me?\"\n",
      "      },\n",
      "      \"type\": \"text\"\n",
      "    }\n",
      "  ],\n",
      "  \"created_at\": 1700305260,\n",
      "  \"file_ids\": [],\n",
      "  \"metadata\": {},\n",
      "  \"object\": \"thread.message\",\n",
      "  \"role\": \"user\",\n",
      "  \"run_id\": null,\n",
      "  \"thread_id\": \"thread_f12GjwTSLUjY0eWc1LL9Hfqj\"\n",
      "}\n"
     ]
    }
   ],
   "source": [
    "print(message.model_dump_json(indent=2))"
   ]
  },
  {
   "cell_type": "markdown",
   "metadata": {},
   "source": [
    "### Run the query"
   ]
  },
  {
   "cell_type": "code",
   "execution_count": 11,
   "metadata": {},
   "outputs": [],
   "source": [
    "run = client.beta.threads.runs.create(\n",
    "  thread_id=thread.id,\n",
    "  assistant_id=math_tutor.id,\n",
    "  instructions=\"Please address the user as Raj.\"\n",
    ")"
   ]
  },
  {
   "cell_type": "code",
   "execution_count": 12,
   "metadata": {},
   "outputs": [
    {
     "name": "stdout",
     "output_type": "stream",
     "text": [
      "{\n",
      "  \"id\": \"run_phNOSiumEnlVNm9hW3snUKTQ\",\n",
      "  \"assistant_id\": \"asst_PzNZpDjx7jYg7KRYBcC1PjCX\",\n",
      "  \"cancelled_at\": null,\n",
      "  \"completed_at\": null,\n",
      "  \"created_at\": 1700305284,\n",
      "  \"expires_at\": 1700305884,\n",
      "  \"failed_at\": null,\n",
      "  \"file_ids\": [],\n",
      "  \"instructions\": \"Please address the user as Raj.\",\n",
      "  \"last_error\": null,\n",
      "  \"metadata\": {},\n",
      "  \"model\": \"gpt-4\",\n",
      "  \"object\": \"thread.run\",\n",
      "  \"required_action\": null,\n",
      "  \"started_at\": null,\n",
      "  \"status\": \"queued\",\n",
      "  \"thread_id\": \"thread_f12GjwTSLUjY0eWc1LL9Hfqj\",\n",
      "  \"tools\": [\n",
      "    {\n",
      "      \"type\": \"code_interpreter\"\n",
      "    }\n",
      "  ]\n",
      "}\n"
     ]
    }
   ],
   "source": [
    "print(run.model_dump_json(indent=2))"
   ]
  },
  {
   "cell_type": "markdown",
   "metadata": {},
   "source": [
    "### Check run status"
   ]
  },
  {
   "cell_type": "code",
   "execution_count": 13,
   "metadata": {},
   "outputs": [],
   "source": [
    "retribed_run = client.beta.threads.runs.retrieve(\n",
    "  thread_id=thread.id,\n",
    "  run_id=run.id\n",
    ")"
   ]
  },
  {
   "cell_type": "code",
   "execution_count": 14,
   "metadata": {},
   "outputs": [
    {
     "name": "stdout",
     "output_type": "stream",
     "text": [
      "{\n",
      "  \"id\": \"run_phNOSiumEnlVNm9hW3snUKTQ\",\n",
      "  \"assistant_id\": \"asst_PzNZpDjx7jYg7KRYBcC1PjCX\",\n",
      "  \"cancelled_at\": null,\n",
      "  \"completed_at\": 1700305292,\n",
      "  \"created_at\": 1700305284,\n",
      "  \"expires_at\": null,\n",
      "  \"failed_at\": null,\n",
      "  \"file_ids\": [],\n",
      "  \"instructions\": \"Please address the user as Raj.\",\n",
      "  \"last_error\": null,\n",
      "  \"metadata\": {},\n",
      "  \"model\": \"gpt-4\",\n",
      "  \"object\": \"thread.run\",\n",
      "  \"required_action\": null,\n",
      "  \"started_at\": 1700305284,\n",
      "  \"status\": \"completed\",\n",
      "  \"thread_id\": \"thread_f12GjwTSLUjY0eWc1LL9Hfqj\",\n",
      "  \"tools\": [\n",
      "    {\n",
      "      \"type\": \"code_interpreter\"\n",
      "    }\n",
      "  ]\n",
      "}\n"
     ]
    }
   ],
   "source": [
    "print(retribed_run.model_dump_json(indent=2))"
   ]
  },
  {
   "cell_type": "markdown",
   "metadata": {},
   "source": [
    "### Show the response"
   ]
  },
  {
   "cell_type": "code",
   "execution_count": 15,
   "metadata": {},
   "outputs": [],
   "source": [
    "thread_messages = client.beta.threads.messages.list(thread.id)"
   ]
  },
  {
   "cell_type": "code",
   "execution_count": 16,
   "metadata": {},
   "outputs": [
    {
     "name": "stdout",
     "output_type": "stream",
     "text": [
      "{\n",
      "  \"data\": [\n",
      "    {\n",
      "      \"id\": \"msg_i3XbvKtR1G2JzSQ6hNPm7p6G\",\n",
      "      \"assistant_id\": \"asst_PzNZpDjx7jYg7KRYBcC1PjCX\",\n",
      "      \"content\": [\n",
      "        {\n",
      "          \"text\": {\n",
      "            \"annotations\": [],\n",
      "            \"value\": \"The solution to the equation `3x + 11 = 14` is `x = 1.0`. So, Raj, the value of `x` which satisfies the given equation is 1.\"\n",
      "          },\n",
      "          \"type\": \"text\"\n",
      "        }\n",
      "      ],\n",
      "      \"created_at\": 1700305291,\n",
      "      \"file_ids\": [],\n",
      "      \"metadata\": {},\n",
      "      \"object\": \"thread.message\",\n",
      "      \"role\": \"assistant\",\n",
      "      \"run_id\": \"run_phNOSiumEnlVNm9hW3snUKTQ\",\n",
      "      \"thread_id\": \"thread_f12GjwTSLUjY0eWc1LL9Hfqj\"\n",
      "    },\n",
      "    {\n",
      "      \"id\": \"msg_qn4DcygUzSIX9bXn2H9aZgtH\",\n",
      "      \"assistant_id\": \"asst_PzNZpDjx7jYg7KRYBcC1PjCX\",\n",
      "      \"content\": [\n",
      "        {\n",
      "          \"text\": {\n",
      "            \"annotations\": [],\n",
      "            \"value\": \"Sure Raj, this is a simple linear equation that can be solved in the following steps:\\n\\n1. Subtract 11 from each side of the equation, which will give you: `3x = 14 - 11`\\n2. Divide each side by 3 to solve for `x`: `x = (14 - 11) / 3`\\n\\nLet's calculate the exact value for `x`.\"\n",
      "          },\n",
      "          \"type\": \"text\"\n",
      "        }\n",
      "      ],\n",
      "      \"created_at\": 1700305285,\n",
      "      \"file_ids\": [],\n",
      "      \"metadata\": {},\n",
      "      \"object\": \"thread.message\",\n",
      "      \"role\": \"assistant\",\n",
      "      \"run_id\": \"run_phNOSiumEnlVNm9hW3snUKTQ\",\n",
      "      \"thread_id\": \"thread_f12GjwTSLUjY0eWc1LL9Hfqj\"\n",
      "    },\n",
      "    {\n",
      "      \"id\": \"msg_S4auHICycoFDjh8nMqVXrBum\",\n",
      "      \"assistant_id\": null,\n",
      "      \"content\": [\n",
      "        {\n",
      "          \"text\": {\n",
      "            \"annotations\": [],\n",
      "            \"value\": \"I need to solve the equation `3x + 11 = 14`. Can you help me?\"\n",
      "          },\n",
      "          \"type\": \"text\"\n",
      "        }\n",
      "      ],\n",
      "      \"created_at\": 1700305260,\n",
      "      \"file_ids\": [],\n",
      "      \"metadata\": {},\n",
      "      \"object\": \"thread.message\",\n",
      "      \"role\": \"user\",\n",
      "      \"run_id\": null,\n",
      "      \"thread_id\": \"thread_f12GjwTSLUjY0eWc1LL9Hfqj\"\n",
      "    }\n",
      "  ],\n",
      "  \"object\": \"list\",\n",
      "  \"first_id\": \"msg_i3XbvKtR1G2JzSQ6hNPm7p6G\",\n",
      "  \"last_id\": \"msg_S4auHICycoFDjh8nMqVXrBum\",\n",
      "  \"has_more\": false\n",
      "}\n"
     ]
    }
   ],
   "source": [
    "print(thread_messages.model_dump_json(indent=2))"
   ]
  },
  {
   "cell_type": "code",
   "execution_count": 17,
   "metadata": {},
   "outputs": [],
   "source": [
    "user = ''\n",
    "assistant = ''\n",
    "\n",
    "for tm in reversed(thread_messages.data):\n",
    "    content = tm.content[0].text.value\n",
    "    if tm.role == 'user':\n",
    "        user += content\n",
    "    if tm.role == 'assistant':\n",
    "        assistant += content"
   ]
  },
  {
   "cell_type": "code",
   "execution_count": 18,
   "metadata": {},
   "outputs": [
    {
     "name": "stdout",
     "output_type": "stream",
     "text": [
      "I need to solve the equation `3x + 11 = 14`. Can you help me?\n"
     ]
    }
   ],
   "source": [
    "print(user)"
   ]
  },
  {
   "cell_type": "code",
   "execution_count": 19,
   "metadata": {},
   "outputs": [
    {
     "name": "stdout",
     "output_type": "stream",
     "text": [
      "Sure Raj, this is a simple linear equation that can be solved in the following steps:\n",
      "\n",
      "1. Subtract 11 from each side of the equation, which will give you: `3x = 14 - 11`\n",
      "2. Divide each side by 3 to solve for `x`: `x = (14 - 11) / 3`\n",
      "\n",
      "Let's calculate the exact value for `x`.The solution to the equation `3x + 11 = 14` is `x = 1.0`. So, Raj, the value of `x` which satisfies the given equation is 1.\n"
     ]
    }
   ],
   "source": [
    "print(assistant)"
   ]
  },
  {
   "cell_type": "markdown",
   "metadata": {},
   "source": [
    "### Delete the assistant"
   ]
  },
  {
   "cell_type": "code",
   "execution_count": 20,
   "metadata": {},
   "outputs": [
    {
     "data": {
      "text/plain": [
       "AssistantDeleted(id='asst_PzNZpDjx7jYg7KRYBcC1PjCX', deleted=True, object='assistant.deleted')"
      ]
     },
     "execution_count": 20,
     "metadata": {},
     "output_type": "execute_result"
    }
   ],
   "source": [
    "client.beta.assistants.delete('asst_PzNZpDjx7jYg7KRYBcC1PjCX')"
   ]
  },
  {
   "cell_type": "code",
   "execution_count": 22,
   "metadata": {},
   "outputs": [],
   "source": [
    "assistant = client.beta.assistants.list()"
   ]
  },
  {
   "cell_type": "code",
   "execution_count": 24,
   "metadata": {},
   "outputs": [
    {
     "name": "stdout",
     "output_type": "stream",
     "text": [
      "{\n",
      "  \"data\": [],\n",
      "  \"object\": \"list\",\n",
      "  \"first_id\": null,\n",
      "  \"last_id\": null,\n",
      "  \"has_more\": false\n",
      "}\n"
     ]
    }
   ],
   "source": [
    "print(assistant.model_dump_json(indent=2))"
   ]
  },
  {
   "cell_type": "code",
   "execution_count": null,
   "metadata": {},
   "outputs": [],
   "source": []
  }
 ],
 "metadata": {
  "kernelspec": {
   "display_name": "venv",
   "language": "python",
   "name": "python3"
  },
  "language_info": {
   "codemirror_mode": {
    "name": "ipython",
    "version": 3
   },
   "file_extension": ".py",
   "mimetype": "text/x-python",
   "name": "python",
   "nbconvert_exporter": "python",
   "pygments_lexer": "ipython3",
   "version": "3.10.12"
  }
 },
 "nbformat": 4,
 "nbformat_minor": 2
}
